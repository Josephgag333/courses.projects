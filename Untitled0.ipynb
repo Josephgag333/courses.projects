{
  "nbformat": 4,
  "nbformat_minor": 0,
  "metadata": {
    "colab": {
      "name": "Untitled0.ipynb",
      "provenance": [],
      "mount_file_id": "1g9zV_Grv0KWfneVEtYY7paH0BRyNHZ6q",
      "authorship_tag": "ABX9TyO1e3h/Foz4BGTqb0tBWT6r",
      "include_colab_link": true
    },
    "kernelspec": {
      "name": "python3",
      "display_name": "Python 3"
    },
    "language_info": {
      "name": "python"
    }
  },
  "cells": [
    {
      "cell_type": "markdown",
      "metadata": {
        "id": "view-in-github",
        "colab_type": "text"
      },
      "source": [
        "<a href=\"https://colab.research.google.com/github/Josephgag333/courses.projects/blob/main/Untitled0.ipynb\" target=\"_parent\"><img src=\"https://colab.research.google.com/assets/colab-badge.svg\" alt=\"Open In Colab\"/></a>"
      ]
    },
    {
      "cell_type": "code",
      "execution_count": 9,
      "metadata": {
        "colab": {
          "base_uri": "https://localhost:8080/"
        },
        "id": "_xZI9pFl4mOw",
        "outputId": "4da55972-0966-494f-deae-d49fb4ca57b4"
      },
      "outputs": [
        {
          "output_type": "stream",
          "name": "stdout",
          "text": [
            "Overwriting ejemplo1.cpp\n"
          ]
        }
      ],
      "source": [
        "%%writefile ejemplo1.cpp\n",
        "#include<iostream>\n",
        "using namespace std;\n",
        "int main(){\n",
        "    cout << \"Hola mundo\";\n",
        "    return 0;\n",
        "}"
      ]
    },
    {
      "cell_type": "code",
      "source": [
        "!g++ ejemplo1.cpp"
      ],
      "metadata": {
        "id": "ofhmKkx-88kE"
      },
      "execution_count": null,
      "outputs": []
    },
    {
      "cell_type": "code",
      "source": [
        "!./a.out"
      ],
      "metadata": {
        "colab": {
          "base_uri": "https://localhost:8080/"
        },
        "id": "b3lx0wZp487o",
        "outputId": "f2b51f03-b0cc-4230-a7e4-c006996c30b5"
      },
      "execution_count": 12,
      "outputs": [
        {
          "output_type": "stream",
          "name": "stdout",
          "text": [
            "/bin/bash: ./a.out: No such file or directory\n"
          ]
        }
      ]
    },
    {
      "cell_type": "code",
      "source": [
        "!g++ -std=c++1z ejemplo1.cpp"
      ],
      "metadata": {
        "id": "ZlhioheJCZ5o"
      },
      "execution_count": 20,
      "outputs": []
    },
    {
      "cell_type": "markdown",
      "source": [
        "Ejemplo 2 sin tamplates"
      ],
      "metadata": {
        "id": "orfvhG5x9Es5"
      }
    },
    {
      "cell_type": "code",
      "source": [
        "%%writefile ejemplo2.hpp\n",
        "//Definicion de bibliotecas, clases y funciones\n",
        "#include <iostream>\n",
        "#include <cstdlib>// srand, rand\n",
        "#include <ctime>//time\n",
        "\n",
        "using std::cout;\n",
        "using std::cin;\n",
        "//definición de la funcion\n",
        "void generar(short* a, size_t n);\n",
        "void listar(short*, size_t);\n",
        "void mayor(short*, size_t);\n",
        "void ordenar(short*, size_t);\n",
        "void mayorPromedio(short* a, size_t n);"
      ],
      "metadata": {
        "colab": {
          "base_uri": "https://localhost:8080/"
        },
        "id": "2aPrFvDt9IDy",
        "outputId": "5a48bcac-8562-40f5-d8c8-f74fcbf42556"
      },
      "execution_count": 28,
      "outputs": [
        {
          "output_type": "stream",
          "name": "stdout",
          "text": [
            "Writing ejemplo2.hpp\n"
          ]
        }
      ]
    },
    {
      "cell_type": "code",
      "source": [
        "%%writefile ejemplo.cpp\n",
        "//implementacion de las bibliotecas, clases  y funciones\n",
        "#include \"Ej1.hpp\"\n",
        "\n",
        "void generar(short* a, size_t n){\n",
        "  for(size_t i=0;i<n;++i){\n",
        "      a[i]=rand()%101+100;//rango de 100 a 200    \n",
        "  }  \n",
        "}\n",
        "\n",
        "void listar(short* a, size_t n){\n",
        "for(size_t i=0;i<n;++i){\n",
        "      cout<<i<<\"-> \"<<a[i]<<\"\\n\";\n",
        "  }  \n",
        "}\n",
        "\n",
        "void mayor(short* a, size_t n){\n",
        "  short _mayor=a[0], _pos=-1;\n",
        "  \n",
        "for(size_t i=1;i<n;++i){\n",
        "  if(a[i]>_mayor){\n",
        "      _mayor=a[i];//actualizo el mayor\n",
        "      _pos=i;\n",
        "    }\n",
        "  }\n",
        "  cout<<\"El mayor valor es\"<<_mayor<<\" y se encuentra en la posicion\"<<_pos<<\"\\n\";\n",
        "}\n",
        "void ordenar(short* a, size_t n){\n",
        "  for(int i=0;i<n-1;++i){\n",
        "  for(int j=i+1;j<n;++j){\n",
        "   if(a[i]>a[j]){\n",
        "    short aux=a[i];\n",
        "    a[i]=a[j];\n",
        "    a[j]=aux;\n",
        "  }\n",
        "}\n",
        "    }\n",
        "}\n",
        "void mayorPromedio(short* a, size_t n){\n",
        "  float prom=0.0f;    \n",
        "  //obteniendo el promedio\n",
        "  for(int i=0;i<n-1;++i)\n",
        "        prom+=a[i];\n",
        "  prom/=n;//prom=prom/n   \n",
        "  //listar mayor al promedio\n",
        "  for(int i=0;i<n-1;++i)\n",
        "        if(a[i]>prom)cout<<i<<\"->\"<<a[i]<<\"\\n\";\n",
        "  }"
      ],
      "metadata": {
        "colab": {
          "base_uri": "https://localhost:8080/"
        },
        "id": "DVT709rDAHVr",
        "outputId": "55a7d329-2a54-4518-c611-79fee9070efd"
      },
      "execution_count": 31,
      "outputs": [
        {
          "output_type": "stream",
          "name": "stdout",
          "text": [
            "Overwriting ejemplo.cpp\n"
          ]
        }
      ]
    },
    {
      "cell_type": "code",
      "source": [
        "%%writefile Ejemplo1.cpp\n",
        "#include \"Ej1.hpp\"\n",
        "int main() {\n",
        "short* arreglo=new short[100];  \n",
        "srand(time(NULL));//inicializacion de la semilla\n",
        "generar(arreglo,100);\n",
        "listar(arreglo, 100);\n",
        "//mayor(arreglo, 100);  \n",
        "ordenar(arreglo, 100);\n",
        "cout<<\"-------------\\n\";\n",
        "//listar(arreglo, 100);\n",
        "mayorPromedio(arreglo, 100);\n",
        "  return 0;\n",
        "}"
      ],
      "metadata": {
        "colab": {
          "base_uri": "https://localhost:8080/"
        },
        "id": "PmZkCiOvBqs6",
        "outputId": "7d0aa1af-43b9-47d4-839c-2d2f21bf9a49"
      },
      "execution_count": 26,
      "outputs": [
        {
          "output_type": "stream",
          "name": "stdout",
          "text": [
            "Writing Ejemplo1.cpp\n"
          ]
        }
      ]
    },
    {
      "cell_type": "code",
      "source": [
        "!g++ -std=c++14 ejemplo2.hpp && ejemplo.cpp && Ejemplo1.cpp && ./a.out"
      ],
      "metadata": {
        "colab": {
          "base_uri": "https://localhost:8080/"
        },
        "id": "_REgY94DCvfI",
        "outputId": "bd476fba-1059-46b5-f704-7be7f3147929"
      },
      "execution_count": 33,
      "outputs": [
        {
          "output_type": "stream",
          "name": "stdout",
          "text": [
            "/bin/bash: ejemplo.cpp: command not found\n"
          ]
        }
      ]
    },
    {
      "cell_type": "markdown",
      "source": [
        "Ejemplo 2 con tamplates\n",
        "Para que funcione con diferentes tipos de datos"
      ],
      "metadata": {
        "id": "n_PVaU0aFucu"
      }
    },
    {
      "cell_type": "code",
      "source": [
        "%%writefile pasos1.hpp\n",
        "//implementacion de las bibliotecas, clases  y funciones\n",
        "#include <iostream>\n",
        "using std::cout;\n",
        "using std::cin;\n",
        "typedef long long miContador;//soporta negativo\n",
        "typedef\n",
        "template <typename Generico> //deficinir funcion como template\n",
        "class arreglo {\n",
        "    Generico* a;\n",
        "    size_t n;\n",
        "    public;\n",
        "    Arreglo(){ a = new Generico[10]; n = 0;}\n",
        "    Arreglo(Generico* _a, size_t _n){ a = _a; n = _n; }\n",
        "    void insertar(Generico g) {\n",
        "        if(n < 10) {\n",
        "            a[n++] = g;\n",
        "        }\n",
        "    }\n",
        "void listar(){\n",
        "for(size_t i=0;i<n;++i){\n",
        "      cout<<i<<\"-> \"<<a[i]<<\"\\n\";\n",
        "  }  \n",
        "}   \n",
        "};"
      ],
      "metadata": {
        "id": "OGO-87unF1Hm"
      },
      "execution_count": null,
      "outputs": []
    },
    {
      "cell_type": "code",
      "source": [
        "%%writefile Ejemplo11.cpp\n",
        "#include \"pasos1.hpp\"\n",
        "int main() {\n",
        "    Arreglo<int>* arrEnteros = new Arreglo<int>();\n",
        "    Arreglo<float>* arrDecimales = new Arreglos<float>;\n",
        "    for(size_t i = 0; i < 10; i++) {\n",
        "        arrEnteros->insertar(i * 10);\n",
        "        arrDecimales->insertar(i * 1.123);\n",
        "    }\n",
        "    arrEnteros->listar();\n",
        "    cout << \"\\n\";\n",
        "    arrDecimales->listar();\n",
        "return 0;\n",
        "}"
      ],
      "metadata": {
        "id": "f_PhU_oJGBEX"
      },
      "execution_count": null,
      "outputs": []
    },
    {
      "cell_type": "code",
      "source": [
        "!g++ Ejemplo11.cpp && ./a.out"
      ],
      "metadata": {
        "colab": {
          "base_uri": "https://localhost:8080/"
        },
        "id": "AwEBKtR_JUR_",
        "outputId": "43a5e936-4815-4190-979a-14dc9d5bbba4"
      },
      "execution_count": 34,
      "outputs": [
        {
          "output_type": "stream",
          "name": "stdout",
          "text": [
            "\u001b[01m\u001b[Kg++:\u001b[m\u001b[K \u001b[01;31m\u001b[Kerror: \u001b[m\u001b[KEjemplo11.cpp: No such file or directory\n",
            "\u001b[01m\u001b[Kg++:\u001b[m\u001b[K \u001b[01;31m\u001b[Kfatal error: \u001b[m\u001b[Kno input files\n",
            "compilation terminated.\n"
          ]
        }
      ]
    }
  ]
}